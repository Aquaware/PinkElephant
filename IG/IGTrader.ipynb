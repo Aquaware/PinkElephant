{
 "cells": [
  {
   "cell_type": "code",
   "execution_count": 28,
   "metadata": {},
   "outputs": [
    {
     "data": {
      "application/vnd.jupyter.widget-view+json": {
       "model_id": "3cac1ca2f1d741e98dc9c966d00ca13c",
       "version_major": 2,
       "version_minor": 0
      },
      "text/plain": [
       "Box(children=(Label(value='● Price  Bid', description='weight=3'), Label(value=' 24200.4', description='weight…"
      ]
     },
     "metadata": {},
     "output_type": "display_data"
    },
    {
     "data": {
      "application/vnd.jupyter.widget-view+json": {
       "model_id": "bb0bb7fbea9b4a939bc4c8e2601b07a8",
       "version_major": 2,
       "version_minor": 0
      },
      "text/plain": [
       "Box(children=(Label(value='● Position  Open Rate', description='weight=3'), Label(value=' 200.4', description=…"
      ]
     },
     "metadata": {},
     "output_type": "display_data"
    }
   ],
   "source": [
    "from __future__ import print_function\n",
    "\n",
    "%matplotlib inline\n",
    "from ipywidgets import interact, interactive, fixed, interact_manual\n",
    "import ipywidgets as widgets\n",
    "from ipywidgets import Layout, Box, HBox, VBox, Text, Label, Button\n",
    "import matplotlib.pyplot as plt\n",
    "import numpy as np\n",
    "import matplotlib.mlab as mlab\n",
    "import math\n",
    "\n",
    "def on_button_clicked(b):\n",
    "    print(\"You just clicked me\")\n",
    "\n",
    "priceLayout = Layout(flex='1 1 auto', width='auto')\n",
    "priceItems = [\n",
    "    Label('● Price  Bid', description='weight=3'),\n",
    "    Label(' 24200.4', description='weight=1'),\n",
    "    Label('  Ask', description='weight=1'),\n",
    "    Label('24300.0', description='weight=1'),\n",
    "    Label('Δ', description='weight=1'),\n",
    "    Label('-5.3', description='weight=1')]\n",
    " \n",
    "\n",
    "box_layout = Layout(display='flex',\n",
    "                    flex_flow='row',\n",
    "                    align_items='stretch',\n",
    "                    border='solid',\n",
    "                    width='100%')\n",
    "priceBox = Box(children=priceItems, layout=box_layout)\n",
    "display(priceBox)\n",
    "\n",
    "positionLayout = Layout(flex='1 1 auto', width='auto')\n",
    "button = Button(description=\"Start\")\n",
    "button.on_click(on_button_clicked)    \n",
    "positionItems = [\n",
    "    Label('● Position  Open Rate', description='weight=3'),\n",
    "    Label(' 200.4', description='weight=1'),\n",
    "    Label('Current Rate', description='weight=1'),\n",
    "    Label(' 300.0', description='weight=1'),\n",
    "    Label('Profit', description='weight=1'),\n",
    "    Label('-5.3', description='weight=1'),\n",
    "    button\n",
    "]\n",
    " \n",
    "\n",
    "positionBox = Box(children=positionItems, layout=box_layout)\n",
    "display(positionBox)\n",
    "\n"
   ]
  },
  {
   "cell_type": "code",
   "execution_count": null,
   "metadata": {},
   "outputs": [],
   "source": []
  }
 ],
 "metadata": {
  "kernelspec": {
   "display_name": "Python 3",
   "language": "python",
   "name": "python3"
  },
  "language_info": {
   "codemirror_mode": {
    "name": "ipython",
    "version": 3
   },
   "file_extension": ".py",
   "mimetype": "text/x-python",
   "name": "python",
   "nbconvert_exporter": "python",
   "pygments_lexer": "ipython3",
   "version": "3.7.1"
  }
 },
 "nbformat": 4,
 "nbformat_minor": 2
}
